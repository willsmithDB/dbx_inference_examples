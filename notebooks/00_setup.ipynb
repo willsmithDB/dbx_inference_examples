{
 "cells": [
  {
   "cell_type": "code",
   "execution_count": 0,
   "metadata": {
    "application/vnd.databricks.v1+cell": {
     "cellMetadata": {},
     "inputWidgets": {},
     "nuid": "d326185b-af53-4e06-b618-fb06cd6faf6b",
     "showTitle": false,
     "tableResultSettingsMap": {},
     "title": ""
    }
   },
   "outputs": [],
   "source": [
    "import os\n",
    "TARGET_HUGGINGFACE_HUB_CACHE = f\"/local_disk0/hf_cache\"\n",
    "LOCAL_HUGGINGFACE_HUB_CACHE = \"/root/.cache/huggingface/hub\"\n",
    "\n",
    "os.environ[\"PYTORCH_CUDA_ALLOC_CONF\"] = \"expandable_segments:True\"\n",
    "os.environ[\"HF_HOME\"] = TARGET_HUGGINGFACE_HUB_CACHE\n",
    "os.environ[\"HUGGINGFACE_HUB_CACHE\"] = TARGET_HUGGINGFACE_HUB_CACHE\n",
    "os.environ[\"HF_HUB_DISABLE_SYMLINKS_WARNING\"] = \"True\""
   ]
  },
  {
   "cell_type": "code",
   "execution_count": 0,
   "metadata": {
    "application/vnd.databricks.v1+cell": {
     "cellMetadata": {},
     "inputWidgets": {},
     "nuid": "52420be1-bfc5-43d5-adcd-31dd9d51d49f",
     "showTitle": false,
     "tableResultSettingsMap": {},
     "title": ""
    }
   },
   "outputs": [],
   "source": [
    "import yaml\n",
    "\n",
    "with open('config.yaml', 'r') as file:\n",
    "    config = yaml.safe_load(file)\n",
    "\n",
    "catalog_name = config['catalog_name']\n",
    "schema_name = config['schema_name']\n",
    "table_name = config['table_name']\n",
    "secret_scope_name = config['secret_scope_name']\n",
    "key_name = config['key_name']"
   ]
  },
  {
   "cell_type": "code",
   "execution_count": 0,
   "metadata": {
    "application/vnd.databricks.v1+cell": {
     "cellMetadata": {},
     "inputWidgets": {},
     "nuid": "0d0e8e76-4995-49c7-bb17-8ba348e6294d",
     "showTitle": false,
     "tableResultSettingsMap": {},
     "title": ""
    }
   },
   "outputs": [],
   "source": [
    "from huggingface_hub import login\n",
    "\n",
    "login(token=dbutils.secrets.get(secret_scope_name, key_name))"
   ]
  }
 ],
 "metadata": {
  "application/vnd.databricks.v1+notebook": {
   "computePreferences": null,
   "dashboards": [],
   "environmentMetadata": {
    "base_environment": "",
    "environment_version": "2"
   },
   "inputWidgetPreferences": null,
   "language": "python",
   "notebookMetadata": {
    "pythonIndentUnit": 2
   },
   "notebookName": "00_setup",
   "widgets": {}
  },
  "language_info": {
   "name": "python"
  }
 },
 "nbformat": 4,
 "nbformat_minor": 0
}
